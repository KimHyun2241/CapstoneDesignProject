{
 "cells": [
  {
   "cell_type": "markdown",
   "metadata": {},
   "source": [
    "코드 출처\n",
    "- https://www.youtube.com/watch?v=eHxDWhtbRCk&list=LL\n",
    "- https://github.com/kairess/gesture-recognition"
   ]
  },
  {
   "cell_type": "code",
   "execution_count": 1,
   "metadata": {},
   "outputs": [],
   "source": [
    "import cv2\n",
    "import mediapipe as mp\n",
    "import numpy as np\n",
    "import time, os"
   ]
  },
  {
   "cell_type": "code",
   "execution_count": 2,
   "metadata": {},
   "outputs": [],
   "source": [
    "# 학습 시킬 동작\n",
    "# 아무런 동작을 하지 않는 손동작\n",
    "# x1 : 손등\n",
    "# x2 : 손바닥\n",
    "# x3 : \n",
    "actions = ['come', 'away', 'spin', 'stop']#, 'x1', 'x2', 'x3']\n",
    "# window 사이즈 지정\n",
    "seq_length = 50\n",
    "# 녹화할 시간 (녹화할 시간을 조정하여 데이터 사이즈 조절)\n",
    "secs_for_action = 120\n",
    "date = '0611+1'\n",
    "\n",
    "# MediaPipe hands model\n",
    "mp_hands = mp.solutions.hands\n",
    "mp_drawing = mp.solutions.drawing_utils\n",
    "hands = mp_hands.Hands(\n",
    "    # 인식할 최대 손의 수\n",
    "    max_num_hands=1,\n",
    "    # 감지에 성공한 것으로 간주될 손모델의 최소 신뢰도 값\n",
    "    min_detection_confidence=0.5,\n",
    "    # tracking 감지에 성공한 것으로 간주될 손모델의 최소 신뢰도 값\n",
    "    min_tracking_confidence=0.5)"
   ]
  },
  {
   "cell_type": "code",
   "execution_count": 3,
   "metadata": {},
   "outputs": [
    {
     "name": "stdout",
     "output_type": "stream",
     "text": [
      "come (664, 100)\n",
      "come (614, 50, 100)\n",
      "away (0,)\n",
      "away (0,)\n",
      "spin (0,)\n",
      "spin (0,)\n",
      "stop (0,)\n",
      "stop (0,)\n"
     ]
    }
   ],
   "source": [
    "cap = cv2.VideoCapture(0)\n",
    "\n",
    "created_time = int(time.time())\n",
    "# 저장할 디렉터리 생성\n",
    "os.makedirs('dataset/{}'.format(date), exist_ok=True)\n",
    "\n",
    "while cap.isOpened():\n",
    "    for idx, action in enumerate(actions):\n",
    "        data = []\n",
    "\n",
    "        ret, img = cap.read()\n",
    "\n",
    "        # 화면 반전\n",
    "        img = cv2.flip(img, 1)\n",
    "\n",
    "        cv2.putText(img, f'Waiting for collecting {action.upper()} action...', org=(10, 30),\n",
    "                    fontFace=cv2.FONT_HERSHEY_SIMPLEX, fontScale=1, color=(255, 255, 255), thickness=2)\n",
    "        cv2.imshow('img', img)\n",
    "        # 3초간 대기\n",
    "        cv2.waitKey(3000)\n",
    "\n",
    "        start_time = time.time()\n",
    "\n",
    "        while time.time() - start_time < secs_for_action:\n",
    "            ret, img = cap.read()\n",
    "\n",
    "            img = cv2.flip(img, 1)\n",
    "            img = cv2.cvtColor(img, cv2.COLOR_BGR2RGB)\n",
    "            result = hands.process(img)\n",
    "            img = cv2.cvtColor(img, cv2.COLOR_RGB2BGR)\n",
    "\n",
    "            if result.multi_hand_landmarks is not None:\n",
    "                for res in result.multi_hand_landmarks:\n",
    "                    joint = np.zeros((21, 4))\n",
    "                    for j, lm in enumerate(res.landmark):\n",
    "                        # visibility 추가                       \n",
    "                        joint[j] = [lm.x, lm.y, lm.z, lm.visibility]\n",
    "\n",
    "                    # Compute angles between joints\n",
    "                    v1 = joint[[0,1,2,3,0,5,6,7,0,9,10,11,0,13,14,15,0,17,18,19], :3] # Parent joint\n",
    "                    v2 = joint[[1,2,3,4,5,6,7,8,9,10,11,12,13,14,15,16,17,18,19,20], :3] # Child joint\n",
    "                    v = v2 - v1 # [20, 3]\n",
    "                    # Normalize v\n",
    "                    v = v / np.linalg.norm(v, axis=1)[:, np.newaxis]\n",
    "\n",
    "                    # Get angle using arcos of dot product\n",
    "                    angle = np.arccos(np.einsum('nt,nt->n',\n",
    "                        v[[0,1,2,4,5,6,8,9,10,12,13,14,16,17,18],:], \n",
    "                        v[[1,2,3,5,6,7,9,10,11,13,14,15,17,18,19],:]))\n",
    "\n",
    "                    angle = np.degrees(angle) # Convert radian to degree\n",
    "\n",
    "                    angle_label = np.array([angle], dtype=np.float32)\n",
    "                    # 학습 시킬 동작의 라벨을 지정\n",
    "                    angle_label = np.append(angle_label, idx)\n",
    "\n",
    "                    d = np.concatenate([joint.flatten(), angle_label])\n",
    "\n",
    "                    data.append(d)\n",
    "\n",
    "                    mp_drawing.draw_landmarks(img, res, mp_hands.HAND_CONNECTIONS)\n",
    "\n",
    "            cv2.imshow('img', img)\n",
    "            if cv2.waitKey(1) == ord('q'):\n",
    "                break\n",
    "\n",
    "        data = np.array(data)\n",
    "        print(action, data.shape)\n",
    "        # raw 파일 저장\n",
    "        np.save(os.path.join('dataset/{}'.format(date), f'raw_{action}_{created_time}'), data)\n",
    "\n",
    "        # Create sequence data\n",
    "        full_seq_data = []\n",
    "        for seq in range(len(data) - seq_length):\n",
    "            full_seq_data.append(data[seq:seq + seq_length])\n",
    "\n",
    "        full_seq_data = np.array(full_seq_data)\n",
    "        print(action, full_seq_data.shape)\n",
    "        # seq 파일 저장\n",
    "        np.save(os.path.join('dataset/{}'.format(date), f'seq_{action}_{created_time}'), full_seq_data)\n",
    "\n",
    "    break\n",
    "\n",
    "# Release video capture and close windows\n",
    "cap.release()\n",
    "cv2.destroyAllWindows()"
   ]
  },
  {
   "cell_type": "markdown",
   "metadata": {},
   "source": []
  },
  {
   "cell_type": "code",
   "execution_count": null,
   "metadata": {},
   "outputs": [],
   "source": []
  }
 ],
 "metadata": {
  "kernelspec": {
   "display_name": "python_31010",
   "language": "python",
   "name": "python3"
  },
  "language_info": {
   "codemirror_mode": {
    "name": "ipython",
    "version": 3
   },
   "file_extension": ".py",
   "mimetype": "text/x-python",
   "name": "python",
   "nbconvert_exporter": "python",
   "pygments_lexer": "ipython3",
   "version": "3.10.14"
  }
 },
 "nbformat": 4,
 "nbformat_minor": 2
}
